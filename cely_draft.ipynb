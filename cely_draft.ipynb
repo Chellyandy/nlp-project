{
 "cells": [
  {
   "cell_type": "code",
   "execution_count": 54,
   "id": "b552ab04-d47a-4636-beb2-a9b15f6d4e3c",
   "metadata": {},
   "outputs": [],
   "source": [
    "import requests\n",
    "from requests import get\n",
    "from bs4 import BeautifulSoup\n",
    "import pandas as pd\n",
    "\n",
    "import os\n",
    "import numpy as np\n",
    "from pprint import pprint \n",
    "import matplotlib.pyplot as plt\n",
    "import random\n",
    "import acquire as a\n",
    "import nltk\n",
    "import re"
   ]
  },
  {
   "cell_type": "code",
   "execution_count": 2,
   "id": "43e9e66a-5c69-4193-af40-d404bf0f4d7b",
   "metadata": {},
   "outputs": [],
   "source": [
    "user_agents = [\n",
    "    \"Mozilla/5.0 (Windows NT 10.0; Win64; x64) AppleWebKit/537.36 (KHTML, like Gecko) Chrome/91.0.4472.124 Safari/537.36\",\n",
    "    \"Mozilla/5.0 (Macintosh; Intel Mac OS X 10_15_7) AppleWebKit/537.36 (KHTML, like Gecko) Chrome/91.0.4472.124 Safari/537.36\",\n",
    "    \"Mozilla/5.0 (Windows NT 10.0; Win64; x64) AppleWebKit/537.36 (KHTML, like Gecko) Chrome/92.0.4515.107 Safari/537.36\",\n",
    "    \"Chrome/91.0.4472.124\"\n",
    "    # Add more User-Agent strings as needed\n",
    "]"
   ]
  },
  {
   "cell_type": "code",
   "execution_count": 27,
   "id": "3649be75-7974-45ae-92e3-2a6e70547c6f",
   "metadata": {
    "tags": []
   },
   "outputs": [],
   "source": [
    "start_page = 1\n",
    "end_page = 30\n",
    "base_url = \"https://github.com/search?o=desc&q=stars:%3E1&s=forks&type=Repositories\"\n",
    "\n",
    "links = []\n",
    "\n",
    "# Iterate over each page\n",
    "for page in range(start_page, end_page + 1):\n",
    "    url = f\"{base_url}&p={page}\"\n",
    "    headers = {\"User-Agent\": random.choice(user_agents)}\n",
    "    response = requests.get(url, headers=headers)\n",
    "    soup = BeautifulSoup(response.content, 'html.parser')\n",
    "\n",
    "    repo_items = soup.find_all('li', class_='repo-list-item')\n",
    "\n",
    "    for link in repo_items:\n",
    "        links.append(link.a.attrs['href'])\n",
    "\n",
    "# Print all the links\n",
    "for link in links:\n",
    "    pprint(link)\n",
    "    print()\n",
    "    "
   ]
  },
  {
   "cell_type": "code",
   "execution_count": null,
   "id": "93fc93f7-ca26-4706-b0fa-1928baad515e",
   "metadata": {},
   "outputs": [],
   "source": [
    "repo_items = soup.find_all('li', class_='repo-list-item')\n",
    "repo_items"
   ]
  },
  {
   "cell_type": "code",
   "execution_count": 4,
   "id": "455d0763-04a1-4571-b0b3-8d7bf75b1109",
   "metadata": {
    "collapsed": true,
    "jupyter": {
     "outputs_hidden": true
    },
    "tags": []
   },
   "outputs": [
    {
     "name": "stdout",
     "output_type": "stream",
     "text": [
      "'jtleek/datasharing'\n",
      "\n",
      "'nightscout/cgm-remote-monitor'\n",
      "\n",
      "'jackfrued/Python-100-Days'\n",
      "\n",
      "'kubernetes/kubernetes'\n",
      "\n",
      "'spring-projects/spring-framework'\n",
      "\n",
      "'getify/You-Dont-Know-JS'\n",
      "\n",
      "'freeCodeCamp/freeCodeCamp'\n",
      "\n",
      "'qmk/qmk_firmware'\n",
      "\n",
      "'DataScienceSpecialization/courses'\n",
      "\n",
      "'Significant-Gravitas/Auto-GPT'\n",
      "\n",
      "'barryclark/jekyll-now'\n",
      "\n",
      "'bitcoin/bitcoin'\n",
      "\n",
      "'trekhleb/javascript-algorithms'\n",
      "\n",
      "'angular/angular.js'\n",
      "\n",
      "'hiifeng/V2ray-for-Doprax'\n",
      "\n",
      "'dotnet/AspNetCore.Docs'\n",
      "\n",
      "'ohmyzsh/ohmyzsh'\n",
      "\n",
      "'jenkins-docs/simple-java-maven-app'\n",
      "\n",
      "'MicrosoftDocs/mslearn-tailspin-spacegame-web'\n",
      "\n",
      "'ansible/ansible'\n",
      "\n",
      "'Significant-Gravitas/Auto-GPT'\n",
      "\n",
      "'trekhleb/javascript-algorithms'\n",
      "\n",
      "'angular/angular.js'\n",
      "\n",
      "'justjavac/free-programming-books-zh_CN'\n",
      "\n",
      "'python/cpython'\n",
      "\n",
      "'nodejs/node'\n",
      "\n",
      "'sindresorhus/awesome'\n",
      "\n",
      "'apache/dubbo'\n",
      "\n",
      "'airbnb/javascript'\n",
      "\n",
      "'atralice/Curso.Prep.Henry'\n",
      "\n",
      "'ColorlibHQ/AdminLTE'\n",
      "\n",
      "'luchihoratiu/debug-via-ssh'\n",
      "\n",
      "'ethereum/go-ethereum'\n",
      "\n",
      "'anuraghazra/github-readme-stats'\n",
      "\n",
      "'helm/charts'\n",
      "\n",
      "'linuxacademy/devops-essentials-sample-app'\n",
      "\n",
      "'AUTOMATIC1111/stable-diffusion-webui'\n",
      "\n",
      "'gabrielecirulli/2048'\n",
      "\n",
      "'streamlit/streamlit-example'\n",
      "\n",
      "'coding-boot-camp/prework-about-me'\n",
      "\n",
      "'microsoft/vscode'\n",
      "\n",
      "'mdn/learning-area'\n",
      "\n",
      "'hiifeng/V2ray-for-Doprax'\n",
      "\n",
      "'airbnb/javascript'\n",
      "\n",
      "'atralice/Curso.Prep.Henry'\n",
      "\n",
      "'dotnet/AspNetCore.Docs'\n",
      "\n",
      "'flutter/flutter'\n",
      "\n",
      "'ohmyzsh/ohmyzsh'\n",
      "\n",
      "'iluwatar/java-design-patterns'\n",
      "\n",
      "'scikit-learn/scikit-learn'\n",
      "\n",
      "'jenkins-docs/simple-java-maven-app'\n",
      "\n",
      "'MicrosoftDocs/mslearn-tailspin-spacegame-web'\n",
      "\n",
      "'home-assistant/core'\n",
      "\n",
      "'ansible/ansible'\n",
      "\n",
      "'facebook/react-native'\n",
      "\n",
      "'d3/d3'\n",
      "\n",
      "'danielmiessler/SecLists'\n",
      "\n",
      "'mmistakes/minimal-mistakes'\n",
      "\n",
      "'soyHenry/Prep-Course'\n",
      "\n",
      "'slatedocs/slate'\n",
      "\n"
     ]
    }
   ],
   "source": [
    "\n",
    "start_page = 1\n",
    "end_page = 20\n",
    "base_url = \"https://github.com/search?o=desc&q=stars:%3E1&s=forks&type=Repositories\"\n",
    "\n",
    "links = []\n",
    "\n",
    "# Iterate over each page\n",
    "for page in range(start_page, end_page + 1):\n",
    "    url = f\"{base_url}&p={page}\"\n",
    "    headers = {\"User-Agent\": random.choice(user_agents)}\n",
    "    response = requests.get(url, headers=headers)\n",
    "    soup = BeautifulSoup(response.content, 'html.parser')\n",
    "\n",
    "    repo_items = soup.find_all('li', class_='repo-list-item')\n",
    "\n",
    "    for link in repo_items:\n",
    "        link_href = link.a.attrs['href'].lstrip('/')  # Remove forward slash at the beginning of the link\n",
    "        links.append(link_href)\n",
    "\n",
    "# Print all the links\n",
    "for link in links:\n",
    "    pprint(link)\n",
    "    print()\n"
   ]
  },
  {
   "cell_type": "code",
   "execution_count": 5,
   "id": "3647220d-e46c-4a0f-930d-0c82f2d2c8ba",
   "metadata": {},
   "outputs": [
    {
     "data": {
      "text/plain": [
       "60"
      ]
     },
     "execution_count": 5,
     "metadata": {},
     "output_type": "execute_result"
    }
   ],
   "source": [
    "len(links)"
   ]
  },
  {
   "cell_type": "code",
   "execution_count": 9,
   "id": "bd8840e0-0752-48eb-b3e4-98a8f1847c48",
   "metadata": {},
   "outputs": [
    {
     "data": {
      "text/html": [
       "<div>\n",
       "<style scoped>\n",
       "    .dataframe tbody tr th:only-of-type {\n",
       "        vertical-align: middle;\n",
       "    }\n",
       "\n",
       "    .dataframe tbody tr th {\n",
       "        vertical-align: top;\n",
       "    }\n",
       "\n",
       "    .dataframe thead th {\n",
       "        text-align: right;\n",
       "    }\n",
       "</style>\n",
       "<table border=\"1\" class=\"dataframe\">\n",
       "  <thead>\n",
       "    <tr style=\"text-align: right;\">\n",
       "      <th></th>\n",
       "      <th>repo</th>\n",
       "      <th>language</th>\n",
       "      <th>readme_contents</th>\n",
       "    </tr>\n",
       "  </thead>\n",
       "  <tbody>\n",
       "    <tr>\n",
       "      <th>0</th>\n",
       "      <td>jtleek/datasharing</td>\n",
       "      <td>None</td>\n",
       "      <td>How to share data with a statistician\\n=======...</td>\n",
       "    </tr>\n",
       "    <tr>\n",
       "      <th>1</th>\n",
       "      <td>nightscout/cgm-remote-monitor</td>\n",
       "      <td>JavaScript</td>\n",
       "      <td>Nightscout Web Monitor (a.k.a. cgm-remote-moni...</td>\n",
       "    </tr>\n",
       "    <tr>\n",
       "      <th>2</th>\n",
       "      <td>jackfrued/Python-100-Days</td>\n",
       "      <td>Python</td>\n",
       "      <td>## Python - 100天从新手到大师\\n\\n&gt; **作者**：骆昊\\n&gt;\\n&gt; **...</td>\n",
       "    </tr>\n",
       "    <tr>\n",
       "      <th>3</th>\n",
       "      <td>kubernetes/kubernetes</td>\n",
       "      <td>Go</td>\n",
       "      <td># Kubernetes (K8s)\\n\\n[![CII Best Practices](h...</td>\n",
       "    </tr>\n",
       "    <tr>\n",
       "      <th>4</th>\n",
       "      <td>spring-projects/spring-framework</td>\n",
       "      <td>Java</td>\n",
       "      <td># &lt;img src=\"framework-docs/src/docs/spring-fra...</td>\n",
       "    </tr>\n",
       "  </tbody>\n",
       "</table>\n",
       "</div>"
      ],
      "text/plain": [
       "                               repo    language  \\\n",
       "0                jtleek/datasharing        None   \n",
       "1     nightscout/cgm-remote-monitor  JavaScript   \n",
       "2         jackfrued/Python-100-Days      Python   \n",
       "3             kubernetes/kubernetes          Go   \n",
       "4  spring-projects/spring-framework        Java   \n",
       "\n",
       "                                     readme_contents  \n",
       "0  How to share data with a statistician\\n=======...  \n",
       "1  Nightscout Web Monitor (a.k.a. cgm-remote-moni...  \n",
       "2  ## Python - 100天从新手到大师\\n\\n> **作者**：骆昊\\n>\\n> **...  \n",
       "3  # Kubernetes (K8s)\\n\\n[![CII Best Practices](h...  \n",
       "4  # <img src=\"framework-docs/src/docs/spring-fra...  "
      ]
     },
     "execution_count": 9,
     "metadata": {},
     "output_type": "execute_result"
    }
   ],
   "source": [
    "df=pd.read_json('data2.json')\n",
    "df.head()"
   ]
  },
  {
   "cell_type": "code",
   "execution_count": 16,
   "id": "c97bb14b-9d4b-4b18-8f0b-ffaef2df5c25",
   "metadata": {},
   "outputs": [],
   "source": [
    "def clean(text: str) -> list: \n",
    "    \"\"\"A simple function to cleanup text data\"\"\"\n",
    "    \n",
    "    #remove non-ascii characters & lower\n",
    "    text = (text.encode('ascii', 'ignore')\n",
    "                .decode('utf-8', 'ignore')\n",
    "                .lower())\n",
    "    \n",
    "    #remove special characters\n",
    "    words = re.sub(r'[^\\w\\s]', '', text).split()\n",
    "    \n",
    "    #build the lemmatizer\n",
    "    wnl = nltk.stem.WordNetLemmatizer()\n",
    "    \n",
    "    #getting all stopwords\n",
    "    stopwords = set(nltk.corpus.stopwords.words('english'))\n",
    "    \n",
    "    return [wnl.lemmatize(word) for word in words if word not in stopwords]"
   ]
  },
  {
   "cell_type": "code",
   "execution_count": 17,
   "id": "f3bffe3e-fab9-414c-b85b-b81be780c2ac",
   "metadata": {},
   "outputs": [],
   "source": [
    "df['clean_readme_contents'] = df.readme_contents.apply(clean).apply(' '.join)"
   ]
  },
  {
   "cell_type": "code",
   "execution_count": 18,
   "id": "872cad4f-e1cd-4a43-8417-91f3a09ede61",
   "metadata": {},
   "outputs": [
    {
     "data": {
      "text/html": [
       "<div>\n",
       "<style scoped>\n",
       "    .dataframe tbody tr th:only-of-type {\n",
       "        vertical-align: middle;\n",
       "    }\n",
       "\n",
       "    .dataframe tbody tr th {\n",
       "        vertical-align: top;\n",
       "    }\n",
       "\n",
       "    .dataframe thead th {\n",
       "        text-align: right;\n",
       "    }\n",
       "</style>\n",
       "<table border=\"1\" class=\"dataframe\">\n",
       "  <thead>\n",
       "    <tr style=\"text-align: right;\">\n",
       "      <th></th>\n",
       "      <th>repo</th>\n",
       "      <th>language</th>\n",
       "      <th>readme_contents</th>\n",
       "      <th>clean_readme_contents</th>\n",
       "    </tr>\n",
       "  </thead>\n",
       "  <tbody>\n",
       "    <tr>\n",
       "      <th>0</th>\n",
       "      <td>jtleek/datasharing</td>\n",
       "      <td>None</td>\n",
       "      <td>How to share data with a statistician\\n=======...</td>\n",
       "      <td>share data statistician guide anyone need shar...</td>\n",
       "    </tr>\n",
       "    <tr>\n",
       "      <th>1</th>\n",
       "      <td>nightscout/cgm-remote-monitor</td>\n",
       "      <td>JavaScript</td>\n",
       "      <td>Nightscout Web Monitor (a.k.a. cgm-remote-moni...</td>\n",
       "      <td>nightscout web monitor aka cgmremotemonitor ni...</td>\n",
       "    </tr>\n",
       "    <tr>\n",
       "      <th>2</th>\n",
       "      <td>jackfrued/Python-100-Days</td>\n",
       "      <td>Python</td>\n",
       "      <td>## Python - 100天从新手到大师\\n\\n&gt; **作者**：骆昊\\n&gt;\\n&gt; **...</td>\n",
       "      <td>python 100 8w15pythoncore50courseshttpsgithubc...</td>\n",
       "    </tr>\n",
       "    <tr>\n",
       "      <th>3</th>\n",
       "      <td>kubernetes/kubernetes</td>\n",
       "      <td>Go</td>\n",
       "      <td># Kubernetes (K8s)\\n\\n[![CII Best Practices](h...</td>\n",
       "      <td>kubernetes k8s cii best practiceshttpsbestprac...</td>\n",
       "    </tr>\n",
       "    <tr>\n",
       "      <th>4</th>\n",
       "      <td>spring-projects/spring-framework</td>\n",
       "      <td>Java</td>\n",
       "      <td># &lt;img src=\"framework-docs/src/docs/spring-fra...</td>\n",
       "      <td>img srcframeworkdocssrcdocsspringframeworkpng ...</td>\n",
       "    </tr>\n",
       "  </tbody>\n",
       "</table>\n",
       "</div>"
      ],
      "text/plain": [
       "                               repo    language  \\\n",
       "0                jtleek/datasharing        None   \n",
       "1     nightscout/cgm-remote-monitor  JavaScript   \n",
       "2         jackfrued/Python-100-Days      Python   \n",
       "3             kubernetes/kubernetes          Go   \n",
       "4  spring-projects/spring-framework        Java   \n",
       "\n",
       "                                     readme_contents  \\\n",
       "0  How to share data with a statistician\\n=======...   \n",
       "1  Nightscout Web Monitor (a.k.a. cgm-remote-moni...   \n",
       "2  ## Python - 100天从新手到大师\\n\\n> **作者**：骆昊\\n>\\n> **...   \n",
       "3  # Kubernetes (K8s)\\n\\n[![CII Best Practices](h...   \n",
       "4  # <img src=\"framework-docs/src/docs/spring-fra...   \n",
       "\n",
       "                               clean_readme_contents  \n",
       "0  share data statistician guide anyone need shar...  \n",
       "1  nightscout web monitor aka cgmremotemonitor ni...  \n",
       "2  python 100 8w15pythoncore50courseshttpsgithubc...  \n",
       "3  kubernetes k8s cii best practiceshttpsbestprac...  \n",
       "4  img srcframeworkdocssrcdocsspringframeworkpng ...  "
      ]
     },
     "execution_count": 18,
     "metadata": {},
     "output_type": "execute_result"
    }
   ],
   "source": [
    "df.head()"
   ]
  },
  {
   "cell_type": "code",
   "execution_count": 21,
   "id": "9ff5e6b3-ec77-479a-a1c5-31183056755e",
   "metadata": {},
   "outputs": [
    {
     "name": "stdout",
     "output_type": "stream",
     "text": [
      "<class 'pandas.core.frame.DataFrame'>\n",
      "RangeIndex: 70 entries, 0 to 69\n",
      "Data columns (total 4 columns):\n",
      " #   Column                 Non-Null Count  Dtype \n",
      "---  ------                 --------------  ----- \n",
      " 0   repo                   70 non-null     object\n",
      " 1   language               63 non-null     object\n",
      " 2   readme_contents        70 non-null     object\n",
      " 3   clean_readme_contents  70 non-null     object\n",
      "dtypes: object(4)\n",
      "memory usage: 2.3+ KB\n"
     ]
    }
   ],
   "source": [
    "df.info()"
   ]
  },
  {
   "cell_type": "code",
   "execution_count": 23,
   "id": "2c3ab867-f81e-46f0-8f54-3f01efd5842b",
   "metadata": {},
   "outputs": [
    {
     "data": {
      "text/plain": [
       "7"
      ]
     },
     "execution_count": 23,
     "metadata": {},
     "output_type": "execute_result"
    }
   ],
   "source": [
    "df.language.value_counts().nunique()"
   ]
  },
  {
   "cell_type": "code",
   "execution_count": 26,
   "id": "f8bf34d2-a03a-45b8-a567-36b0dd357aaa",
   "metadata": {},
   "outputs": [
    {
     "data": {
      "text/plain": [
       "array([None, 'JavaScript', 'Python', 'Go', 'Java', 'TypeScript', 'C',\n",
       "       'HTML', 'CSS', 'Dockerfile', 'C#', 'Dart', 'PHP', 'C++', 'Scala',\n",
       "       'Rust', 'Shell', 'SCSS'], dtype=object)"
      ]
     },
     "execution_count": 26,
     "metadata": {},
     "output_type": "execute_result"
    }
   ],
   "source": [
    "df.language.unique()"
   ]
  },
  {
   "cell_type": "code",
   "execution_count": 42,
   "id": "5c3ead1b-c531-4aae-bb24-a23a5444532f",
   "metadata": {},
   "outputs": [
    {
     "data": {
      "text/plain": [
       "21.428571428571427"
      ]
     },
     "execution_count": 42,
     "metadata": {},
     "output_type": "execute_result"
    }
   ],
   "source": [
    "(df['language'] == 'JavaScript').mean()*100"
   ]
  },
  {
   "cell_type": "code",
   "execution_count": 44,
   "id": "4200c015-322d-49b3-a826-56f07403499c",
   "metadata": {},
   "outputs": [
    {
     "data": {
      "text/plain": [
       "0.21428571428571427"
      ]
     },
     "execution_count": 44,
     "metadata": {},
     "output_type": "execute_result"
    }
   ],
   "source": [
    "15/70"
   ]
  },
  {
   "cell_type": "code",
   "execution_count": 47,
   "id": "2a8049c2-0068-48ec-a82c-f2369b522f9c",
   "metadata": {},
   "outputs": [],
   "source": [
    "languages_to_keep = ['JavaScript', 'Python', 'Java']\n",
    "df['language'] = np.where(df['language'].isin(languages_to_keep), df['language'], 'Other')"
   ]
  },
  {
   "cell_type": "code",
   "execution_count": 48,
   "id": "a06f96ea-d0c1-4b66-961a-f409cc462f85",
   "metadata": {},
   "outputs": [
    {
     "data": {
      "text/html": [
       "<div>\n",
       "<style scoped>\n",
       "    .dataframe tbody tr th:only-of-type {\n",
       "        vertical-align: middle;\n",
       "    }\n",
       "\n",
       "    .dataframe tbody tr th {\n",
       "        vertical-align: top;\n",
       "    }\n",
       "\n",
       "    .dataframe thead th {\n",
       "        text-align: right;\n",
       "    }\n",
       "</style>\n",
       "<table border=\"1\" class=\"dataframe\">\n",
       "  <thead>\n",
       "    <tr style=\"text-align: right;\">\n",
       "      <th></th>\n",
       "      <th>repo</th>\n",
       "      <th>language</th>\n",
       "      <th>readme_contents</th>\n",
       "      <th>clean_readme_contents</th>\n",
       "    </tr>\n",
       "  </thead>\n",
       "  <tbody>\n",
       "    <tr>\n",
       "      <th>0</th>\n",
       "      <td>jtleek/datasharing</td>\n",
       "      <td>Other</td>\n",
       "      <td>How to share data with a statistician\\n=======...</td>\n",
       "      <td>share data statistician guide anyone need shar...</td>\n",
       "    </tr>\n",
       "    <tr>\n",
       "      <th>1</th>\n",
       "      <td>nightscout/cgm-remote-monitor</td>\n",
       "      <td>JavaScript</td>\n",
       "      <td>Nightscout Web Monitor (a.k.a. cgm-remote-moni...</td>\n",
       "      <td>nightscout web monitor aka cgmremotemonitor ni...</td>\n",
       "    </tr>\n",
       "    <tr>\n",
       "      <th>2</th>\n",
       "      <td>jackfrued/Python-100-Days</td>\n",
       "      <td>Python</td>\n",
       "      <td>## Python - 100天从新手到大师\\n\\n&gt; **作者**：骆昊\\n&gt;\\n&gt; **...</td>\n",
       "      <td>python 100 8w15pythoncore50courseshttpsgithubc...</td>\n",
       "    </tr>\n",
       "    <tr>\n",
       "      <th>3</th>\n",
       "      <td>kubernetes/kubernetes</td>\n",
       "      <td>Other</td>\n",
       "      <td># Kubernetes (K8s)\\n\\n[![CII Best Practices](h...</td>\n",
       "      <td>kubernetes k8s cii best practiceshttpsbestprac...</td>\n",
       "    </tr>\n",
       "    <tr>\n",
       "      <th>4</th>\n",
       "      <td>spring-projects/spring-framework</td>\n",
       "      <td>Java</td>\n",
       "      <td># &lt;img src=\"framework-docs/src/docs/spring-fra...</td>\n",
       "      <td>img srcframeworkdocssrcdocsspringframeworkpng ...</td>\n",
       "    </tr>\n",
       "  </tbody>\n",
       "</table>\n",
       "</div>"
      ],
      "text/plain": [
       "                               repo    language  \\\n",
       "0                jtleek/datasharing       Other   \n",
       "1     nightscout/cgm-remote-monitor  JavaScript   \n",
       "2         jackfrued/Python-100-Days      Python   \n",
       "3             kubernetes/kubernetes       Other   \n",
       "4  spring-projects/spring-framework        Java   \n",
       "\n",
       "                                     readme_contents  \\\n",
       "0  How to share data with a statistician\\n=======...   \n",
       "1  Nightscout Web Monitor (a.k.a. cgm-remote-moni...   \n",
       "2  ## Python - 100天从新手到大师\\n\\n> **作者**：骆昊\\n>\\n> **...   \n",
       "3  # Kubernetes (K8s)\\n\\n[![CII Best Practices](h...   \n",
       "4  # <img src=\"framework-docs/src/docs/spring-fra...   \n",
       "\n",
       "                               clean_readme_contents  \n",
       "0  share data statistician guide anyone need shar...  \n",
       "1  nightscout web monitor aka cgmremotemonitor ni...  \n",
       "2  python 100 8w15pythoncore50courseshttpsgithubc...  \n",
       "3  kubernetes k8s cii best practiceshttpsbestprac...  \n",
       "4  img srcframeworkdocssrcdocsspringframeworkpng ...  "
      ]
     },
     "execution_count": 48,
     "metadata": {},
     "output_type": "execute_result"
    }
   ],
   "source": [
    "df.head()"
   ]
  },
  {
   "cell_type": "code",
   "execution_count": 49,
   "id": "dbf9d956-024f-4574-ad5c-043b14c1a3eb",
   "metadata": {},
   "outputs": [
    {
     "data": {
      "text/plain": [
       "Other         40\n",
       "JavaScript    15\n",
       "Python        10\n",
       "Java           5\n",
       "Name: language, dtype: int64"
      ]
     },
     "execution_count": 49,
     "metadata": {},
     "output_type": "execute_result"
    }
   ],
   "source": [
    "df.language.value_counts()"
   ]
  },
  {
   "cell_type": "code",
   "execution_count": 50,
   "id": "c148b0c1-6b22-452b-896c-d34ab5f67b42",
   "metadata": {},
   "outputs": [
    {
     "data": {
      "text/plain": [
       "0.5714285714285714"
      ]
     },
     "execution_count": 50,
     "metadata": {},
     "output_type": "execute_result"
    }
   ],
   "source": [
    "40/70"
   ]
  },
  {
   "cell_type": "code",
   "execution_count": 51,
   "id": "01d452be-df91-44d1-9e79-674e6fb0325b",
   "metadata": {},
   "outputs": [],
   "source": [
    "def create_pie_chart(df, column_name,title):\n",
    "    \"\"\" This function creates a pie chart for our categorical target variable\"\"\"\n",
    "    values = df[column_name].value_counts()\n",
    "    labels = values.index.tolist()\n",
    "    sizes = values.tolist()\n",
    "    plt.pie(sizes, labels=labels, autopct='%1.1f%%', startangle=90)\n",
    "    plt.axis('equal')\n",
    "    plt.title(title)\n",
    "    plt.show()\n",
    "    "
   ]
  },
  {
   "cell_type": "code",
   "execution_count": 55,
   "id": "db94e98f-9949-4e17-ba74-00acdb13f9bd",
   "metadata": {},
   "outputs": [
    {
     "data": {
      "image/png": "[encoded data removed]",
      "text/plain": [
       "<Figure size 640x480 with 1 Axes>"
      ]
     },
     "metadata": {},
     "output_type": "display_data"
    }
   ],
   "source": [
    "create_pie_chart(df,'language','Target Variable')"
   ]
  },
  {
   "cell_type": "code",
   "execution_count": 56,
   "id": "d8fe80cb-90ac-463d-8b5a-17559b504027",
   "metadata": {},
   "outputs": [
    {
     "name": "stdout",
     "output_type": "stream",
     "text": [
      "<class 'pandas.core.frame.DataFrame'>\n",
      "RangeIndex: 70 entries, 0 to 69\n",
      "Data columns (total 4 columns):\n",
      " #   Column                 Non-Null Count  Dtype \n",
      "---  ------                 --------------  ----- \n",
      " 0   repo                   70 non-null     object\n",
      " 1   language               70 non-null     object\n",
      " 2   readme_contents        70 non-null     object\n",
      " 3   clean_readme_contents  70 non-null     object\n",
      "dtypes: object(4)\n",
      "memory usage: 2.3+ KB\n"
     ]
    }
   ],
   "source": [
    "df.info()"
   ]
  },
  {
   "cell_type": "code",
   "execution_count": null,
   "id": "311cdca5-de8d-4d64-8853-6a5d79edf300",
   "metadata": {},
   "outputs": [],
   "source": []
  }
 ],
 "metadata": {
  "kernelspec": {
   "display_name": "Python 3 (ipykernel)",
   "language": "python",
   "name": "python3"
  },
  "language_info": {
   "codemirror_mode": {
    "name": "ipython",
    "version": 3
   },
   "file_extension": ".py",
   "mimetype": "text/x-python",
   "name": "python",
   "nbconvert_exporter": "python",
   "pygments_lexer": "ipython3",
   "version": "3.9.13"
  }
 },
 "nbformat": 4,
 "nbformat_minor": 5
}
